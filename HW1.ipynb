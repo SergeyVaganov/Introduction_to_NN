{
 "cells": [
  {
   "cell_type": "markdown",
   "id": "ab2492ac",
   "metadata": {},
   "source": [
    "## Практическое задание\n",
    "Попробуйте видоизменить параметры разобранной на уроке нейронной сети таким образом, чтобы улучшить её точность. Проведите анализ:\n",
    "\n",
    "* Что приводит к ухудшению точности нейронной сети?\n",
    "* Что приводит к увеличению её точности?\n"
   ]
  },
  {
   "cell_type": "code",
   "execution_count": 1,
   "id": "ec4d19e8",
   "metadata": {},
   "outputs": [],
   "source": [
    "import numpy as np\n",
    "import pandas as pd\n",
    "import matplotlib.pyplot as plt\n",
    "from sklearn.metrics import accuracy_score\n",
    "from sklearn.metrics import classification_report, multilabel_confusion_matrix\n",
    "from sklearn.model_selection import train_test_split\n",
    "\n",
    "import warnings\n",
    "warnings.simplefilter(action='ignore', category=FutureWarning)"
   ]
  },
  {
   "cell_type": "code",
   "execution_count": 2,
   "id": "ce375526",
   "metadata": {},
   "outputs": [],
   "source": [
    "def to_one_hot(Y):\n",
    "    '''преобразование массива в бинарный вид результатов'''\n",
    "    n_col = np.amax(Y) + 1\n",
    "    binarized = np.zeros((len(Y), n_col))\n",
    "    for i in range(len(Y)):\n",
    "        binarized[i, Y[i]] = 1.\n",
    "    return binarized\n",
    "\n",
    "def sigmoid(x):\n",
    "    '''сигмоида'''\n",
    "    return 1/(1+np.exp(-x))\n",
    "\n",
    "def sigmoid_deriv(x):\n",
    "    '''производная сигмоиды'''\n",
    "    return sigmoid(x)*(1 - sigmoid(x))\n",
    "\n",
    "def normalize(X, axis=-1, order=2):\n",
    "    '''нормализация массива'''\n",
    "    l2 = np.atleast_1d(np.linalg.norm(X, order, axis))\n",
    "    l2[l2 == 0] = 1\n",
    "    return X / np.expand_dims(l2, axis)\n",
    "\n",
    "def data_preparation(file = \"Iris.csv\"):\n",
    "    '''подготовка данных'''\n",
    "    iris_data = pd.read_csv(\"Iris.csv\")\n",
    "    iris_data['Species'].replace(['Iris-setosa', 'Iris-virginica', 'Iris-versicolor'], [0, 1, 2], inplace=True)\n",
    "    columns = ['SepalLengthCm', 'SepalWidthCm', 'PetalLengthCm', 'PetalWidthCm']\n",
    "    x = pd.DataFrame(iris_data, columns=columns)\n",
    "    x = normalize(x.to_numpy())\n",
    "    columns = ['Species']\n",
    "    y = pd.DataFrame(iris_data, columns=columns)\n",
    "    y = y.to_numpy()\n",
    "    y = y.flatten()\n",
    "    y = to_one_hot(y)\n",
    "    return train_test_split(x, y, test_size=0.33, random_state=42)\n",
    "\n",
    "def fit_neuro(X_train, y_train, neurons = 5, hidden_layers = 1, inerations = 10000, lr = 0.01, flag=False):\n",
    "    '''Инициализация и обучение модели нейронной сети'''\n",
    "    # инициализация весов\n",
    "    np.random.seed(42)\n",
    "    w = []\n",
    "    w.append(2*np.random.random((4, neurons))-1)\n",
    "    for layer in range(hidden_layers-1):\n",
    "        w.append(2*np.random.random((neurons, neurons))-1)\n",
    "    w.append(2*np.random.random((neurons, 3))-1)\n",
    "    errors = []\n",
    "    # процесс обучения\n",
    "    for i in range(1, inerations):\n",
    "        # прямой проход        \n",
    "        layer = [0]        \n",
    "        layer[0] = X_train\n",
    "        for index in range(len(w)):\n",
    "            layer.append(sigmoid(np.dot(layer[index], w[index]))) \n",
    "        # обратный проход        \n",
    "        layer_error = [0]*(hidden_layers+2)\n",
    "        layer_delta = [0]*(hidden_layers+2)\n",
    "        layer_error[-1] = y_train - layer[-1]\n",
    "        layer_delta[-1] = layer_error[-1] * sigmoid_deriv(np.dot(layer[-2], w[-1]))\n",
    "        for index in range(hidden_layers, 0, -1):\n",
    "            layer_error[index] = layer_delta[index+1].dot(w[index].T)\n",
    "            layer_delta[index] = layer_error[index] * sigmoid_deriv(np.dot(layer[index-1], w[index-1]))        \n",
    "        # корректировка весов\n",
    "        for index in range(len(w)):\n",
    "            w[index] += layer[index].T.dot(layer_delta[index+1]) * lr\n",
    "        error = np.mean(np.abs(layer_error[-1]))\n",
    "        errors.append(error)\n",
    "        accuracy = (1 - error) * 100    \n",
    "    # вспомогательная отрисовка результата \n",
    "    if flag:\n",
    "        plt.plot(errors)\n",
    "        plt.xlabel('Обучение')\n",
    "        plt.ylabel('Ошибка')        \n",
    "        print(\"Точность нейронной сети \" + str(round(accuracy,2)) + \"%\")    \n",
    "    return w"
   ]
  },
  {
   "cell_type": "code",
   "execution_count": 3,
   "id": "bb2675ad",
   "metadata": {},
   "outputs": [],
   "source": [
    "def predict(w, X_test):\n",
    "    '''предсказание сети'''\n",
    "    layer = [0.0]\n",
    "    layer[0] =  sigmoid(np.dot(X_test, w[0]))\n",
    "    for index in range(1, len(w)):\n",
    "        layer.append(sigmoid(np.dot(layer[index-1], w[index])))\n",
    "    return layer[-1]"
   ]
  },
  {
   "cell_type": "code",
   "execution_count": 4,
   "id": "e4df7065",
   "metadata": {},
   "outputs": [],
   "source": [
    "def accuracy(true, pred):\n",
    "    '''расчёт accuracy'''\n",
    "    # представление данный в виде одномерных массивов с метками классов\n",
    "    true_ =  [el.argmax() for el in true]\n",
    "    pred_ = [el.argmax() for el in pred]\n",
    "    return accuracy_score(true_, pred_)"
   ]
  },
  {
   "cell_type": "markdown",
   "id": "e4eb085d",
   "metadata": {},
   "source": [
    "## BaseLine"
   ]
  },
  {
   "cell_type": "code",
   "execution_count": 5,
   "id": "2f573a50",
   "metadata": {},
   "outputs": [
    {
     "name": "stdout",
     "output_type": "stream",
     "text": [
      "accuracy train -  0.98\n",
      "accuracy test  -  0.96\n"
     ]
    }
   ],
   "source": [
    "X_train, X_test, y_train, y_test =  data_preparation()\n",
    "w = fit_neuro(X_train, y_train, neurons = 5, hidden_layers = 1, inerations = 10000, lr = 0.01)\n",
    "pred_train = predict(w ,X_train)\n",
    "print('accuracy train - ', accuracy(y_train, pred_train))\n",
    "pred_test = predict(w ,X_test)\n",
    "print('accuracy test  - ',accuracy(y_test, pred_test))\n"
   ]
  },
  {
   "cell_type": "code",
   "execution_count": 6,
   "id": "a993c30c",
   "metadata": {},
   "outputs": [
    {
     "name": "stdout",
     "output_type": "stream",
     "text": [
      "              precision    recall  f1-score   support\n",
      "\n",
      "           0       1.00      1.00      1.00        19\n",
      "           1       0.94      0.94      0.94        16\n",
      "           2       0.93      0.93      0.93        15\n",
      "\n",
      "    accuracy                           0.96        50\n",
      "   macro avg       0.96      0.96      0.96        50\n",
      "weighted avg       0.96      0.96      0.96        50\n",
      "\n"
     ]
    }
   ],
   "source": [
    "print(classification_report(y_test.argmax(-1), pred_test.argmax(-1)))"
   ]
  },
  {
   "cell_type": "code",
   "execution_count": 7,
   "id": "bbe12604",
   "metadata": {},
   "outputs": [
    {
     "name": "stdout",
     "output_type": "stream",
     "text": [
      "[[[31  0]\n",
      "  [ 0 19]]\n",
      "\n",
      " [[33  1]\n",
      "  [ 1 15]]\n",
      "\n",
      " [[34  1]\n",
      "  [ 1 14]]]\n"
     ]
    }
   ],
   "source": [
    "print(multilabel_confusion_matrix(y_test.argmax(-1), pred_test.argmax(-1)))"
   ]
  },
  {
   "cell_type": "markdown",
   "id": "20f5b1b0",
   "metadata": {},
   "source": [
    "## Изменение результатов работы сети в завичсимости от скорости обучение"
   ]
  },
  {
   "cell_type": "code",
   "execution_count": 8,
   "id": "bad7e86e",
   "metadata": {},
   "outputs": [],
   "source": [
    "lr = [0.01, 0.05, 0.1, 0.2, 0.5, 1, 2]\n",
    "acc_train = []\n",
    "acc_test = []  \n",
    "for rate in lr:\n",
    "    w = fit_neuro(X_train, y_train, neurons = 5, hidden_layers =1, inerations = 10000, lr = rate)  \n",
    "    acc_train.append(accuracy(y_train, predict(w ,X_train)))\n",
    "    acc_test.append(accuracy(y_test, predict(w ,X_test)))    "
   ]
  },
  {
   "cell_type": "code",
   "execution_count": 9,
   "id": "7b6b817d",
   "metadata": {},
   "outputs": [
    {
     "data": {
      "text/html": [
       "<div>\n",
       "<style scoped>\n",
       "    .dataframe tbody tr th:only-of-type {\n",
       "        vertical-align: middle;\n",
       "    }\n",
       "\n",
       "    .dataframe tbody tr th {\n",
       "        vertical-align: top;\n",
       "    }\n",
       "\n",
       "    .dataframe thead th {\n",
       "        text-align: right;\n",
       "    }\n",
       "</style>\n",
       "<table border=\"1\" class=\"dataframe\">\n",
       "  <thead>\n",
       "    <tr style=\"text-align: right;\">\n",
       "      <th></th>\n",
       "      <th>Скорость обучение</th>\n",
       "      <th>0.01</th>\n",
       "      <th>0.05</th>\n",
       "      <th>0.1</th>\n",
       "      <th>0.2</th>\n",
       "      <th>0.5</th>\n",
       "      <th>1.0</th>\n",
       "      <th>2.0</th>\n",
       "    </tr>\n",
       "  </thead>\n",
       "  <tbody>\n",
       "    <tr>\n",
       "      <th>0</th>\n",
       "      <td>train</td>\n",
       "      <td>0.98</td>\n",
       "      <td>0.98</td>\n",
       "      <td>0.98</td>\n",
       "      <td>0.97</td>\n",
       "      <td>0.98</td>\n",
       "      <td>0.99</td>\n",
       "      <td>0.65</td>\n",
       "    </tr>\n",
       "    <tr>\n",
       "      <th>1</th>\n",
       "      <td>test</td>\n",
       "      <td>0.96</td>\n",
       "      <td>0.94</td>\n",
       "      <td>0.94</td>\n",
       "      <td>0.96</td>\n",
       "      <td>0.96</td>\n",
       "      <td>1.00</td>\n",
       "      <td>0.70</td>\n",
       "    </tr>\n",
       "  </tbody>\n",
       "</table>\n",
       "</div>"
      ],
      "text/plain": [
       "  Скорость обучение  0.01  0.05   0.1   0.2   0.5   1.0   2.0\n",
       "0             train  0.98  0.98  0.98  0.97  0.98  0.99  0.65\n",
       "1              test  0.96  0.94  0.94  0.96  0.96  1.00  0.70"
      ]
     },
     "execution_count": 9,
     "metadata": {},
     "output_type": "execute_result"
    }
   ],
   "source": [
    "df = pd.DataFrame([acc_train, acc_test], columns=lr)\n",
    "result = pd.DataFrame(['train', 'test'], columns=['Скорость обучение'])\n",
    "result.join(df)"
   ]
  },
  {
   "cell_type": "code",
   "execution_count": 10,
   "id": "2c41fd72",
   "metadata": {},
   "outputs": [
    {
     "data": {
      "image/png": "[encoded data removed]",
      "text/plain": [
       "<Figure size 432x288 with 1 Axes>"
      ]
     },
     "metadata": {
      "needs_background": "light"
     },
     "output_type": "display_data"
    }
   ],
   "source": [
    "plt.plot(lr, acc_train, label='train')\n",
    "plt.plot(lr, acc_test,  label='test')\n",
    "plt.legend()\n",
    "plt.xlabel('Скорость обучение')\n",
    "plt.ylabel('accuracy')   \n",
    "plt.show()"
   ]
  },
  {
   "cell_type": "markdown",
   "id": "07b783c8",
   "metadata": {},
   "source": [
    "### Выводы:\n",
    "\n",
    "- Увеличение скорости обучения позволяет быстрей достигать сходимости, но при этом большой шаг не позволяет нам с достаточной точностью определить минимум целевой функции. \n",
    "-  При малых значениях мы не успеваем достичь минимума, при больших недостаточно точно его определяем. Таким образом можно сказать, что у зависимости ошибки от скорости обучения должен иметься единственный максимум "
   ]
  },
  {
   "cell_type": "markdown",
   "id": "e0e4cc54",
   "metadata": {},
   "source": [
    "## Изменение результатов работы сети в завичсимости от числа итераций"
   ]
  },
  {
   "cell_type": "code",
   "execution_count": 11,
   "id": "e431b2ac",
   "metadata": {},
   "outputs": [],
   "source": [
    "inerations = [500, 5000, 10000, 15000, 20000, 25000, 30000]\n",
    "acc_train = []\n",
    "acc_test = []  \n",
    "for iter_ in inerations:\n",
    "    w = fit_neuro(X_train, y_train, neurons = 5, hidden_layers =1, inerations = iter_, lr = 0.01)  \n",
    "    acc_train.append(accuracy(y_train, predict(w ,X_train)))\n",
    "    acc_test.append(accuracy(y_test, predict(w ,X_test)))    "
   ]
  },
  {
   "cell_type": "code",
   "execution_count": 12,
   "id": "7fc2da3a",
   "metadata": {},
   "outputs": [
    {
     "data": {
      "text/html": [
       "<div>\n",
       "<style scoped>\n",
       "    .dataframe tbody tr th:only-of-type {\n",
       "        vertical-align: middle;\n",
       "    }\n",
       "\n",
       "    .dataframe tbody tr th {\n",
       "        vertical-align: top;\n",
       "    }\n",
       "\n",
       "    .dataframe thead th {\n",
       "        text-align: right;\n",
       "    }\n",
       "</style>\n",
       "<table border=\"1\" class=\"dataframe\">\n",
       "  <thead>\n",
       "    <tr style=\"text-align: right;\">\n",
       "      <th></th>\n",
       "      <th>Кол-во итераций</th>\n",
       "      <th>500</th>\n",
       "      <th>5000</th>\n",
       "      <th>10000</th>\n",
       "      <th>15000</th>\n",
       "      <th>20000</th>\n",
       "      <th>25000</th>\n",
       "      <th>30000</th>\n",
       "    </tr>\n",
       "  </thead>\n",
       "  <tbody>\n",
       "    <tr>\n",
       "      <th>0</th>\n",
       "      <td>train</td>\n",
       "      <td>0.71</td>\n",
       "      <td>0.97</td>\n",
       "      <td>0.98</td>\n",
       "      <td>0.98</td>\n",
       "      <td>0.98</td>\n",
       "      <td>0.98</td>\n",
       "      <td>0.98</td>\n",
       "    </tr>\n",
       "    <tr>\n",
       "      <th>1</th>\n",
       "      <td>test</td>\n",
       "      <td>0.76</td>\n",
       "      <td>0.98</td>\n",
       "      <td>0.96</td>\n",
       "      <td>0.96</td>\n",
       "      <td>0.96</td>\n",
       "      <td>0.94</td>\n",
       "      <td>0.94</td>\n",
       "    </tr>\n",
       "  </tbody>\n",
       "</table>\n",
       "</div>"
      ],
      "text/plain": [
       "  Кол-во итераций   500  5000  10000  15000  20000  25000  30000\n",
       "0           train  0.71  0.97   0.98   0.98   0.98   0.98   0.98\n",
       "1            test  0.76  0.98   0.96   0.96   0.96   0.94   0.94"
      ]
     },
     "execution_count": 12,
     "metadata": {},
     "output_type": "execute_result"
    }
   ],
   "source": [
    "df = pd.DataFrame([acc_train, acc_test], columns=inerations)\n",
    "result = pd.DataFrame(['train', 'test'], columns=['Кол-во итераций'])\n",
    "result.join(df)"
   ]
  },
  {
   "cell_type": "code",
   "execution_count": 13,
   "id": "d8215592",
   "metadata": {},
   "outputs": [
    {
     "data": {
      "image/png": "[encoded data removed]",
      "text/plain": [
       "<Figure size 432x288 with 1 Axes>"
      ]
     },
     "metadata": {
      "needs_background": "light"
     },
     "output_type": "display_data"
    }
   ],
   "source": [
    "plt.plot(inerations, acc_train, label='train')\n",
    "plt.plot(inerations, acc_test,  label='test')\n",
    "plt.legend()\n",
    "plt.xlabel('Кол-во итераций')\n",
    "plt.ylabel('accuracy')   \n",
    "plt.show()"
   ]
  },
  {
   "cell_type": "markdown",
   "id": "b6098b70",
   "metadata": {},
   "source": [
    "### Выводы:\n",
    "\n",
    "- Рассуждения аналогичны предыдущему пункту. Чем больше итераций, тем уверенней мы достигаем области минимума, но при этом возникает проблема переобучения, что можно заметить из результатов. \n",
    "- Зависимость также имеет один максимум"
   ]
  },
  {
   "cell_type": "markdown",
   "id": "35b396c3",
   "metadata": {},
   "source": [
    "## Изменение результатов работы сети в завичсимости от количества нойронов в скрытом слое"
   ]
  },
  {
   "cell_type": "code",
   "execution_count": 14,
   "id": "5aae8897",
   "metadata": {},
   "outputs": [],
   "source": [
    "neurons = [3,4,5,10,20,50]\n",
    "acc_train = []\n",
    "acc_test = []  \n",
    "for neuro in neurons:\n",
    "    w = fit_neuro(X_train, y_train, neurons = neuro, hidden_layers = 1, inerations = 10000, lr = 0.01)  \n",
    "    acc_train.append(accuracy(y_train, predict(w ,X_train)))\n",
    "    acc_test.append(accuracy(y_test, predict(w ,X_test)))    "
   ]
  },
  {
   "cell_type": "code",
   "execution_count": 15,
   "id": "18de4837",
   "metadata": {},
   "outputs": [
    {
     "data": {
      "text/html": [
       "<div>\n",
       "<style scoped>\n",
       "    .dataframe tbody tr th:only-of-type {\n",
       "        vertical-align: middle;\n",
       "    }\n",
       "\n",
       "    .dataframe tbody tr th {\n",
       "        vertical-align: top;\n",
       "    }\n",
       "\n",
       "    .dataframe thead th {\n",
       "        text-align: right;\n",
       "    }\n",
       "</style>\n",
       "<table border=\"1\" class=\"dataframe\">\n",
       "  <thead>\n",
       "    <tr style=\"text-align: right;\">\n",
       "      <th></th>\n",
       "      <th>кол-во нейронов</th>\n",
       "      <th>3</th>\n",
       "      <th>4</th>\n",
       "      <th>5</th>\n",
       "      <th>10</th>\n",
       "      <th>20</th>\n",
       "      <th>50</th>\n",
       "    </tr>\n",
       "  </thead>\n",
       "  <tbody>\n",
       "    <tr>\n",
       "      <th>0</th>\n",
       "      <td>train</td>\n",
       "      <td>0.98</td>\n",
       "      <td>0.98</td>\n",
       "      <td>0.98</td>\n",
       "      <td>0.98</td>\n",
       "      <td>0.98</td>\n",
       "      <td>0.98</td>\n",
       "    </tr>\n",
       "    <tr>\n",
       "      <th>1</th>\n",
       "      <td>test</td>\n",
       "      <td>0.96</td>\n",
       "      <td>0.96</td>\n",
       "      <td>0.96</td>\n",
       "      <td>0.96</td>\n",
       "      <td>0.96</td>\n",
       "      <td>0.96</td>\n",
       "    </tr>\n",
       "  </tbody>\n",
       "</table>\n",
       "</div>"
      ],
      "text/plain": [
       "  кол-во нейронов     3     4     5    10    20    50\n",
       "0           train  0.98  0.98  0.98  0.98  0.98  0.98\n",
       "1            test  0.96  0.96  0.96  0.96  0.96  0.96"
      ]
     },
     "execution_count": 15,
     "metadata": {},
     "output_type": "execute_result"
    }
   ],
   "source": [
    "df = pd.DataFrame([acc_train, acc_test], columns=neurons)\n",
    "result = pd.DataFrame(['train', 'test'], columns=['кол-во нейронов'])\n",
    "result.join(df)\n"
   ]
  },
  {
   "cell_type": "code",
   "execution_count": 16,
   "id": "8167916c",
   "metadata": {},
   "outputs": [
    {
     "data": {
      "image/png": "[encoded data removed]",
      "text/plain": [
       "<Figure size 432x288 with 1 Axes>"
      ]
     },
     "metadata": {
      "needs_background": "light"
     },
     "output_type": "display_data"
    }
   ],
   "source": [
    "plt.plot(neurons, acc_train, label='train')\n",
    "plt.plot(neurons, acc_test,  label='test')\n",
    "plt.legend()\n",
    "plt.xlabel('Количество нейронов')\n",
    "plt.ylabel('accuracy')   \n",
    "plt.show()"
   ]
  },
  {
   "cell_type": "markdown",
   "id": "1d014a60",
   "metadata": {},
   "source": [
    "### Выводы:\n",
    "\n",
    "- Как показал эксперимент явной зависимости ошибки от числа нейронов на данном датасете не наблюдается, это объясняется простотой самих данных. Можно предположить, что чем больше нейронов в сети тем больше \"зависимостей\" может выучить сеть, а это приведёт к переобучению. \n"
   ]
  },
  {
   "cell_type": "markdown",
   "id": "c409e271",
   "metadata": {},
   "source": [
    "## Изменение результатов работы сети в завичсимости от количества скрытых слоев"
   ]
  },
  {
   "cell_type": "code",
   "execution_count": 17,
   "id": "8f83daa3",
   "metadata": {},
   "outputs": [],
   "source": [
    "hidden_layers = [1,2,3,4,5,6,7,8,9,10]\n",
    "acc_train = []\n",
    "acc_test = []  \n",
    "for hidden in hidden_layers:\n",
    "    w = fit_neuro(X_train, y_train, neurons = 5, hidden_layers =hidden, inerations = 10000, lr = 0.01)  \n",
    "    acc_train.append(accuracy(y_train, predict(w ,X_train)))\n",
    "    acc_test.append(accuracy(y_test, predict(w ,X_test)))    "
   ]
  },
  {
   "cell_type": "code",
   "execution_count": 18,
   "id": "2d957301",
   "metadata": {},
   "outputs": [
    {
     "data": {
      "text/html": [
       "<div>\n",
       "<style scoped>\n",
       "    .dataframe tbody tr th:only-of-type {\n",
       "        vertical-align: middle;\n",
       "    }\n",
       "\n",
       "    .dataframe tbody tr th {\n",
       "        vertical-align: top;\n",
       "    }\n",
       "\n",
       "    .dataframe thead th {\n",
       "        text-align: right;\n",
       "    }\n",
       "</style>\n",
       "<table border=\"1\" class=\"dataframe\">\n",
       "  <thead>\n",
       "    <tr style=\"text-align: right;\">\n",
       "      <th></th>\n",
       "      <th>Кол-во скрытых слоёв</th>\n",
       "      <th>1</th>\n",
       "      <th>2</th>\n",
       "      <th>3</th>\n",
       "      <th>4</th>\n",
       "      <th>5</th>\n",
       "      <th>6</th>\n",
       "      <th>7</th>\n",
       "      <th>8</th>\n",
       "      <th>9</th>\n",
       "      <th>10</th>\n",
       "    </tr>\n",
       "  </thead>\n",
       "  <tbody>\n",
       "    <tr>\n",
       "      <th>0</th>\n",
       "      <td>train</td>\n",
       "      <td>0.98</td>\n",
       "      <td>0.98</td>\n",
       "      <td>0.98</td>\n",
       "      <td>0.98</td>\n",
       "      <td>0.35</td>\n",
       "      <td>0.35</td>\n",
       "      <td>0.35</td>\n",
       "      <td>0.35</td>\n",
       "      <td>0.35</td>\n",
       "      <td>0.35</td>\n",
       "    </tr>\n",
       "    <tr>\n",
       "      <th>1</th>\n",
       "      <td>test</td>\n",
       "      <td>0.96</td>\n",
       "      <td>0.96</td>\n",
       "      <td>0.96</td>\n",
       "      <td>0.96</td>\n",
       "      <td>0.30</td>\n",
       "      <td>0.30</td>\n",
       "      <td>0.30</td>\n",
       "      <td>0.30</td>\n",
       "      <td>0.30</td>\n",
       "      <td>0.30</td>\n",
       "    </tr>\n",
       "  </tbody>\n",
       "</table>\n",
       "</div>"
      ],
      "text/plain": [
       "  Кол-во скрытых слоёв     1     2     3     4     5     6     7     8     9  \\\n",
       "0                train  0.98  0.98  0.98  0.98  0.35  0.35  0.35  0.35  0.35   \n",
       "1                 test  0.96  0.96  0.96  0.96  0.30  0.30  0.30  0.30  0.30   \n",
       "\n",
       "     10  \n",
       "0  0.35  \n",
       "1  0.30  "
      ]
     },
     "execution_count": 18,
     "metadata": {},
     "output_type": "execute_result"
    }
   ],
   "source": [
    "df = pd.DataFrame([acc_train, acc_test], columns=hidden_layers)\n",
    "result = pd.DataFrame(['train', 'test'], columns=['Кол-во скрытых слоёв'])\n",
    "result.join(df)"
   ]
  },
  {
   "cell_type": "code",
   "execution_count": 19,
   "id": "90accbf4",
   "metadata": {},
   "outputs": [
    {
     "data": {
      "image/png": "[encoded data removed]",
      "text/plain": [
       "<Figure size 432x288 with 1 Axes>"
      ]
     },
     "metadata": {
      "needs_background": "light"
     },
     "output_type": "display_data"
    }
   ],
   "source": [
    "plt.plot(hidden_layers, acc_train, label='train')\n",
    "plt.plot(hidden_layers, acc_test,  label='test')\n",
    "plt.legend()\n",
    "plt.xlabel('Кол-во скрытых слоёв')\n",
    "plt.ylabel('accuracy')   \n",
    "plt.show()"
   ]
  },
  {
   "cell_type": "markdown",
   "id": "8865249e",
   "metadata": {},
   "source": [
    "### Выводы:\n",
    "\n",
    "- Большое число слоёв аналогично, как и большое количество нейронов может привести к переобучению. \n",
    "- Большое количество скрытых слоёв приводит к затуханию градиента. Мы можем наблюдать это на графике. "
   ]
  },
  {
   "cell_type": "markdown",
   "id": "16b13f07",
   "metadata": {},
   "source": [
    "## Итог:"
   ]
  },
  {
   "cell_type": "code",
   "execution_count": 20,
   "id": "6abe72ab",
   "metadata": {},
   "outputs": [
    {
     "name": "stdout",
     "output_type": "stream",
     "text": [
      "0.99 1.0\n"
     ]
    }
   ],
   "source": [
    "\n",
    "w = fit_neuro(X_train, y_train, neurons = 5, hidden_layers =1, inerations = 10000, lr = 1)  \n",
    "pred_train = predict(w ,X_train)\n",
    "pred_test = predict(w ,X_test)\n",
    "train = accuracy(y_train, pred_train)\n",
    "test = accuracy(y_test, pred_test)\n",
    "print(train, test)"
   ]
  },
  {
   "cell_type": "code",
   "execution_count": 21,
   "id": "dc8974ec",
   "metadata": {},
   "outputs": [
    {
     "name": "stdout",
     "output_type": "stream",
     "text": [
      "              precision    recall  f1-score   support\n",
      "\n",
      "           0       1.00      1.00      1.00        19\n",
      "           1       1.00      1.00      1.00        16\n",
      "           2       1.00      1.00      1.00        15\n",
      "\n",
      "    accuracy                           1.00        50\n",
      "   macro avg       1.00      1.00      1.00        50\n",
      "weighted avg       1.00      1.00      1.00        50\n",
      "\n"
     ]
    }
   ],
   "source": [
    "print(classification_report(y_test.argmax(-1), pred_test.argmax(-1)))"
   ]
  },
  {
   "cell_type": "code",
   "execution_count": 22,
   "id": "9980e375",
   "metadata": {},
   "outputs": [
    {
     "name": "stdout",
     "output_type": "stream",
     "text": [
      "[[[31  0]\n",
      "  [ 0 19]]\n",
      "\n",
      " [[34  0]\n",
      "  [ 0 16]]\n",
      "\n",
      " [[35  0]\n",
      "  [ 0 15]]]\n"
     ]
    }
   ],
   "source": [
    "print(multilabel_confusion_matrix(y_test.argmax(-1), pred_test.argmax(-1)))"
   ]
  },
  {
   "cell_type": "markdown",
   "id": "05a22989",
   "metadata": {},
   "source": [
    "### Выводы по работе:\n",
    "\n",
    "- Единица на тестовой выборке больше говорит скорее от простоте данных, чем о удачной конфигурации нейронной сети.\n",
    "- С другой стороны, даже сеть собранная \"на коленке\" позволяет решать некоторые вопросы классификации с очень высокими показателями. \n",
    "- В работе не рассматривались разные функции активации, методы инициализации весов и стратегии оптимизации скорости обучения. На таком датасете увидеть плюсы и минусы практически очень сложно. "
   ]
  },
  {
   "cell_type": "code",
   "execution_count": null,
   "id": "15df4c63",
   "metadata": {},
   "outputs": [],
   "source": []
  }
 ],
 "metadata": {
  "kernelspec": {
   "display_name": "Python 3 (ipykernel)",
   "language": "python",
   "name": "python3"
  },
  "language_info": {
   "codemirror_mode": {
    "name": "ipython",
    "version": 3
   },
   "file_extension": ".py",
   "mimetype": "text/x-python",
   "name": "python",
   "nbconvert_exporter": "python",
   "pygments_lexer": "ipython3",
   "version": "3.9.7"
  }
 },
 "nbformat": 4,
 "nbformat_minor": 5
}
