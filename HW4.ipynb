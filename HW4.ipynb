{
 "cells": [
  {
   "cell_type": "code",
   "execution_count": 1,
   "id": "ca2d902c",
   "metadata": {},
   "outputs": [],
   "source": [
    "from tensorflow import keras \n",
    "from tensorflow.keras.datasets import cifar10\n",
    "from tensorflow.keras.preprocessing.image import ImageDataGenerator\n",
    "from tensorflow.keras.models import Sequential\n",
    "from tensorflow.keras.layers import Dense, Dropout, Activation, Flatten, Conv2D, MaxPooling2D\n",
    "import os\n",
    "import matplotlib.pyplot as plt"
   ]
  },
  {
   "cell_type": "code",
   "execution_count": 2,
   "id": "e567bebe",
   "metadata": {},
   "outputs": [],
   "source": [
    "# установка параметров нейросети\n",
    "batch_size = 128\n",
    "num_classes = 10\n",
    "epochs = 5\n",
    "data_augmentation = True\n",
    "save_dir = os.path.join(os.getcwd(), 'saved_models')\n",
    "model_name = 'keras_cifar10_trained_model.h5'"
   ]
  },
  {
   "cell_type": "code",
   "execution_count": 3,
   "id": "29c3ccc6",
   "metadata": {},
   "outputs": [
    {
     "name": "stdout",
     "output_type": "stream",
     "text": [
      "x_train shape: (50000, 32, 32, 3)\n",
      "50000 тренировочные примеры\n",
      "10000 тестовые примеры\n"
     ]
    }
   ],
   "source": [
    "# разделение тренировочной и тестовой выборки\n",
    "(x_train, y_train), (x_test, y_test) = cifar10.load_data()\n",
    "print('x_train shape:', x_train.shape)\n",
    "print(x_train.shape[0], 'тренировочные примеры')\n",
    "print(x_test.shape[0], 'тестовые примеры')\n",
    "\n",
    "# преобразование матрицы чисел 0-9 в бинарную матрицу чисел 0-1\n",
    "y_train = keras.utils.to_categorical(y_train, num_classes)\n",
    "y_test = keras.utils.to_categorical(y_test, num_classes)\n",
    "\n",
    "x_train = x_train.astype('float32')\n",
    "x_test = x_test.astype('float32')\n",
    "x_train /= 255\n",
    "x_test /= 255"
   ]
  },
  {
   "cell_type": "code",
   "execution_count": 4,
   "id": "358d2ed0",
   "metadata": {},
   "outputs": [],
   "source": [
    "datagen = ImageDataGenerator(\n",
    "    width_shift_range=0.1,\n",
    "    height_shift_range=0.1,\n",
    "    horizontal_flip=0.5)"
   ]
  },
  {
   "cell_type": "code",
   "execution_count": 5,
   "id": "606e747c",
   "metadata": {},
   "outputs": [
    {
     "data": {
      "text/plain": [
       "<matplotlib.image.AxesImage at 0x1d944848430>"
      ]
     },
     "execution_count": 5,
     "metadata": {},
     "output_type": "execute_result"
    },
    {
     "data": {
      "image/png": "[encoded data removed]",
      "text/plain": [
       "<Figure size 432x288 with 1 Axes>"
      ]
     },
     "metadata": {
      "needs_background": "light"
     },
     "output_type": "display_data"
    }
   ],
   "source": [
    "plt.imshow(x_train[4])"
   ]
  },
  {
   "cell_type": "markdown",
   "id": "f88e81e9",
   "metadata": {},
   "source": [
    "## BaseLine"
   ]
  },
  {
   "cell_type": "code",
   "execution_count": 6,
   "id": "7a39d7aa",
   "metadata": {},
   "outputs": [],
   "source": [
    "# конфигурирование слоев нейросети\n",
    "model = Sequential()\n",
    "\n",
    "# слои нейросети отвественные за свертку и max-pooling\n",
    "model.add(Conv2D(32, (3, 3), padding='same', input_shape=x_train.shape[1:]))\n",
    "model.add(Activation('relu'))\n",
    "model.add(Conv2D(32, (3, 3)))\n",
    "model.add(Activation('relu'))\n",
    "model.add(MaxPooling2D(pool_size=(2, 2)))\n",
    "model.add(Dropout(0.25))\n",
    "\n",
    "model.add(Conv2D(64, (3, 3), padding='same'))\n",
    "model.add(Activation('relu'))\n",
    "model.add(Conv2D(64, (3, 3)))\n",
    "model.add(Activation('relu'))\n",
    "model.add(MaxPooling2D(pool_size=(2, 2)))\n",
    "model.add(Dropout(0.25))\n",
    "\n",
    "# полносвязные слои нейронной сети\n",
    "model.add(Flatten())\n",
    "model.add(Dense(512))\n",
    "model.add(Activation('relu'))\n",
    "model.add(Dropout(0.5))\n",
    "model.add(Dense(num_classes))\n",
    "model.add(Activation('softmax'))"
   ]
  },
  {
   "cell_type": "code",
   "execution_count": 7,
   "id": "9117be90",
   "metadata": {},
   "outputs": [],
   "source": [
    "# инициализация RMSprop optimizer\n",
    "opt = keras.optimizers.RMSprop(learning_rate=0.0001, decay=1e-6)\n",
    "\n",
    "# компиляция модели\n",
    "model.compile(loss='categorical_crossentropy',\n",
    "              optimizer=opt,\n",
    "              metrics=['accuracy'])"
   ]
  },
  {
   "cell_type": "code",
   "execution_count": 8,
   "id": "17e2e514",
   "metadata": {},
   "outputs": [
    {
     "name": "stdout",
     "output_type": "stream",
     "text": [
      "Epoch 1/5\n",
      "391/391 [==============================] - 101s 253ms/step - loss: 2.0113 - accuracy: 0.2611 - val_loss: 1.8043 - val_accuracy: 0.3611\n",
      "Epoch 2/5\n",
      "391/391 [==============================] - 99s 254ms/step - loss: 1.7532 - accuracy: 0.3631 - val_loss: 1.5976 - val_accuracy: 0.4270\n",
      "Epoch 3/5\n",
      "391/391 [==============================] - 100s 256ms/step - loss: 1.6508 - accuracy: 0.4004 - val_loss: 1.4945 - val_accuracy: 0.4549\n",
      "Epoch 4/5\n",
      "391/391 [==============================] - 98s 251ms/step - loss: 1.5764 - accuracy: 0.4272 - val_loss: 1.4132 - val_accuracy: 0.4926\n",
      "Epoch 5/5\n",
      "391/391 [==============================] - 100s 256ms/step - loss: 1.5170 - accuracy: 0.4506 - val_loss: 1.4194 - val_accuracy: 0.4932\n"
     ]
    },
    {
     "data": {
      "text/plain": [
       "<keras.callbacks.History at 0x1d943377b20>"
      ]
     },
     "execution_count": 8,
     "metadata": {},
     "output_type": "execute_result"
    }
   ],
   "source": [
    "# запуск data augmentation через fit_generator\n",
    "model.fit(datagen.flow(x_train, y_train, batch_size=batch_size),\n",
    "                    epochs=epochs,\n",
    "                    validation_data=(x_test, y_test),\n",
    "                    workers=4)"
   ]
  },
  {
   "cell_type": "code",
   "execution_count": 9,
   "id": "17086e9e",
   "metadata": {},
   "outputs": [
    {
     "name": "stdout",
     "output_type": "stream",
     "text": [
      "313/313 [==============================] - 4s 14ms/step - loss: 1.4194 - accuracy: 0.4932\n",
      "Test loss: 1.419377088546753\n",
      "Test accuracy: 0.49320000410079956\n"
     ]
    }
   ],
   "source": [
    "# проверка работы обученной модели\n",
    "scores = model.evaluate(x_test, y_test, verbose=1)\n",
    "print('Test loss:', scores[0])\n",
    "print('Test accuracy:', scores[1])"
   ]
  },
  {
   "cell_type": "markdown",
   "id": "83e1f845",
   "metadata": {},
   "source": [
    "## Улучшенная сеть"
   ]
  },
  {
   "cell_type": "code",
   "execution_count": 10,
   "id": "69e0a3a4",
   "metadata": {},
   "outputs": [],
   "source": [
    "# конфигурирование слоев нейросети\n",
    "model = Sequential()\n",
    "\n",
    "# слои нейросети отвественные за свертку и max-pooling\n",
    "model.add(Conv2D(32, (3, 3), padding='same', activation='selu', input_shape=x_train.shape[1:]))\n",
    "model.add(keras.layers.BatchNormalization())\n",
    "model.add(Conv2D(32, (3, 3), padding='same', activation='selu'))\n",
    "model.add(keras.layers.BatchNormalization())\n",
    "model.add(MaxPooling2D(pool_size=(2, 2)))\n",
    "model.add(Dropout(0.1))\n",
    "# shape (16,16)\n",
    "\n",
    "model.add(Conv2D(64, (3, 3), padding='same', activation='selu'))\n",
    "model.add(keras.layers.BatchNormalization())\n",
    "model.add(Conv2D(64, (3, 3), padding='same', activation='selu'))\n",
    "model.add(keras.layers.BatchNormalization())\n",
    "model.add(MaxPooling2D(pool_size=(2, 2)))\n",
    "model.add(Dropout(0.1))\n",
    "# shape (8,8)\n",
    "\n",
    "model.add(Conv2D(128, (3, 3), padding='same', activation='selu'))\n",
    "model.add(keras.layers.BatchNormalization())\n",
    "model.add(Conv2D(128, (3, 3), padding='same', activation='selu', input_shape=x_train.shape[1:]))\n",
    "model.add(keras.layers.BatchNormalization())\n",
    "model.add(MaxPooling2D(pool_size=(2, 2)))\n",
    "model.add(Dropout(0.1))\n",
    "# shape (4,4)\n",
    "\n",
    "model.add(Conv2D(256, (3, 3), padding='same', activation='selu'))\n",
    "model.add(keras.layers.BatchNormalization())\n",
    "model.add(Conv2D(256, (3, 3), padding='same', activation='selu'))\n",
    "model.add(keras.layers.BatchNormalization())\n",
    "model.add(MaxPooling2D(pool_size=(2, 2)))\n",
    "model.add(Dropout(0.1))\n",
    "# shape (2,2)\n",
    "\n",
    "model.add(Conv2D(512, (3, 3), padding='same', activation='selu'))\n",
    "model.add(keras.layers.BatchNormalization())\n",
    "model.add(Conv2D(512, (3, 3), padding='same', activation='selu'))\n",
    "model.add(keras.layers.BatchNormalization())\n",
    "model.add(MaxPooling2D(pool_size=(2, 2)))\n",
    "model.add(Dropout(0.1))\n",
    "# shape (1,1)\n",
    "\n",
    "# полносвязные слои нейронной сети\n",
    "model.add(Flatten())\n",
    "model.add(Dense(1024))\n",
    "model.add(Activation('selu'))\n",
    "model.add(keras.layers.BatchNormalization())\n",
    "model.add(Dropout(0.1))\n",
    "model.add(Dense(512))\n",
    "model.add(Activation('selu'))\n",
    "\n",
    "model.add(Dense(num_classes))\n",
    "model.add(Activation('softmax'))"
   ]
  },
  {
   "cell_type": "code",
   "execution_count": 11,
   "id": "a59fe579",
   "metadata": {},
   "outputs": [],
   "source": [
    "datagen = ImageDataGenerator(\n",
    "    width_shift_range=0.1,\n",
    "    height_shift_range=0.1,\n",
    "    horizontal_flip=0.5)\n",
    "batch_size = 128"
   ]
  },
  {
   "cell_type": "code",
   "execution_count": 12,
   "id": "c533670b",
   "metadata": {},
   "outputs": [],
   "source": [
    "lr_decayed_fn = keras.optimizers.schedules.CosineDecay(initial_learning_rate=0.001, decay_steps=1000)\n",
    "opt = keras.optimizers.Adamax(learning_rate=lr_decayed_fn)\n",
    "\n",
    "model.compile(loss='categorical_crossentropy',\n",
    "              optimizer=opt,\n",
    "              metrics=['accuracy'])"
   ]
  },
  {
   "cell_type": "code",
   "execution_count": 13,
   "id": "ebe4909a",
   "metadata": {},
   "outputs": [
    {
     "name": "stdout",
     "output_type": "stream",
     "text": [
      "Epoch 1/5\n",
      "391/391 [==============================] - 618s 2s/step - loss: 1.6937 - accuracy: 0.4197 - val_loss: 2.7589 - val_accuracy: 0.2581\n",
      "Epoch 2/5\n",
      "391/391 [==============================] - 631s 2s/step - loss: 1.2202 - accuracy: 0.5619 - val_loss: 1.2019 - val_accuracy: 0.5885\n",
      "Epoch 3/5\n",
      "391/391 [==============================] - 633s 2s/step - loss: 1.0699 - accuracy: 0.6162 - val_loss: 1.0618 - val_accuracy: 0.6242\n",
      "Epoch 4/5\n",
      "391/391 [==============================] - 634s 2s/step - loss: 1.0586 - accuracy: 0.6207 - val_loss: 1.0616 - val_accuracy: 0.6249\n",
      "Epoch 5/5\n",
      "391/391 [==============================] - 628s 2s/step - loss: 1.0594 - accuracy: 0.6221 - val_loss: 1.0655 - val_accuracy: 0.6234\n"
     ]
    },
    {
     "data": {
      "text/plain": [
       "<keras.callbacks.History at 0x1d903b52cd0>"
      ]
     },
     "execution_count": 13,
     "metadata": {},
     "output_type": "execute_result"
    }
   ],
   "source": [
    "model.fit(datagen.flow(x_train, y_train, batch_size=batch_size),\n",
    "                    epochs=epochs,\n",
    "                    validation_data=(x_test, y_test),\n",
    "                    workers=4)"
   ]
  },
  {
   "cell_type": "code",
   "execution_count": 14,
   "id": "021e4221",
   "metadata": {},
   "outputs": [
    {
     "name": "stdout",
     "output_type": "stream",
     "text": [
      "313/313 [==============================] - 17s 53ms/step - loss: 1.0655 - accuracy: 0.6234\n",
      "Test loss: 1.065549612045288\n",
      "Test accuracy: 0.6233999729156494\n"
     ]
    }
   ],
   "source": [
    "# проверка работы обученной модели\n",
    "scores = model.evaluate(x_test, y_test, verbose=1)\n",
    "print('Test loss:', scores[0])\n",
    "print('Test accuracy:', scores[1])"
   ]
  },
  {
   "cell_type": "markdown",
   "id": "827205fb",
   "metadata": {},
   "source": [
    "Выводы: "
   ]
  },
  {
   "cell_type": "markdown",
   "id": "f63dfefc",
   "metadata": {},
   "source": [
    "К увеличению точности привело:\n",
    "- Изменение Dropout, в базовой модели этот параметр был завышен. \n",
    "- Изменение скорости обучения через планировщик так же позволяет более точно обучить модель. \n",
    "- Увеличение числа слоёв  даёт возможность сети обучать большее числе паттернов, \n",
    "- Увеличение receptive field позволяет анализировать большие объекты. В нашем датасете имеются объекты полностью занимающие картинку я постарался сделать receptive field максимальным."
   ]
  },
  {
   "cell_type": "markdown",
   "id": "287d7384",
   "metadata": {},
   "source": [
    "### Вопрос 2\n",
    "\n",
    "Опишите в анализе, какие изменения необходимо было бы внести в получившуюся нейронную сеть, если бы ей нужно было работать не с cifar10, а с MNIST, CIFAR100 и IMAGENET"
   ]
  },
  {
   "cell_type": "markdown",
   "id": "6ec8fb0c",
   "metadata": {},
   "source": [
    "CIFAR100 - полностью аналогичен cifar10, отличается количеством размеченных классов. <br>\n",
    "Таким образом для обучения полученной нами сети на CIFAR100, необходимо поменять число классов в выходном слое  <br>\n",
    ">__num_classes = 100<br>\n",
    "model.add(Dense(num_classes))<br>\n",
    "model.add(Activation('softmax'))__<br>"
   ]
  },
  {
   "cell_type": "markdown",
   "id": "45c4aab7",
   "metadata": {},
   "source": [
    "С обучением моей сети на MNIST дела немного посложнее<br> \n",
    "1. MNIST имеет размерность выборки <br> x_train shape: (60000, 28, 28) поэтому сначала необходимо добавить еще одну ось, чтобы не \"ругался\" ImageDataGenerator\n",
    "\n",
    ">__x_train = x_train.reshape(60000,28,28,1)__\n",
    "\n",
    "\n",
    "\n",
    "2. Размер изображения в датасете 28*28, чтобы модель смогла работать необходимо удалить последний блок с 512 фильтрами.  \n",
    "\n",
    ">__model.add(Conv2D(512, (3, 3), padding='same', activation='selu'))<br>\n",
    " model.add(keras.layers.BatchNormalization())<br>\n",
    " model.add(Conv2D(512, (3, 3), padding='same', activation='selu'))<br>\n",
    " model.add(keras.layers.BatchNormalization())<br>\n",
    " model.add(MaxPooling2D(pool_size=(2, 2)))<br>\n",
    " model.add(Dropout(0.1))__<br>\n"
   ]
  },
  {
   "cell_type": "markdown",
   "id": "ca8edcda",
   "metadata": {},
   "source": [
    "IMAGENET имеет набор изображений различного разрешения, и всегда больше 32*32, таким образом можно воспользоваться например функцией  \n",
    ">__datagen.flow_from_directory(... target_size=(32, 32) ...)__\n",
    "\n",
    "flow_from_directory - Принимает путь к каталогу и генерирует пакеты расширенных данных.\n",
    "target_size - кортеж целых (height, width)чисел, по умолчанию (256,256). Размеры, до которых будут изменены все найденные изображения.\n",
    "После чего сеть будет обучаться на предоставленных данных"
   ]
  },
  {
   "cell_type": "markdown",
   "id": "53beb7ba",
   "metadata": {},
   "source": [
    "В последнем случае имеет смысл всё-таки воспользоваться уже предобученной сетью на датасете IMAGENET"
   ]
  }
 ],
 "metadata": {
  "kernelspec": {
   "display_name": "Python 3 (ipykernel)",
   "language": "python",
   "name": "python3"
  },
  "language_info": {
   "codemirror_mode": {
    "name": "ipython",
    "version": 3
   },
   "file_extension": ".py",
   "mimetype": "text/x-python",
   "name": "python",
   "nbconvert_exporter": "python",
   "pygments_lexer": "ipython3",
   "version": "3.9.7"
  }
 },
 "nbformat": 4,
 "nbformat_minor": 5
}
