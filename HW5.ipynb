{
 "cells": [
  {
   "cell_type": "markdown",
   "id": "141e3033",
   "metadata": {},
   "source": [
    "Домашнее задание\n",
    "1. Попробуйте изменить параметры нейронной сети, работающей с датасетом imdb, либо\n",
    "нейронной сети, работающей airline-passengers (она прилагается вместе с датасетом к\n",
    "уроку в виде отдельного скрипта) так, чтобы улучшить её точность. Приложите анализ.\n",
    "2. Попробуйте изменить параметры нейронной сети, генерирующей текст таким образом,\n",
    "чтобы добиться генерации как можно более осмысленного текста. Пришлите лучший\n",
    "текст из получившихся и опишите предпринятые для его получения действия. Можно\n",
    "использовать текст другого произведения."
   ]
  },
  {
   "cell_type": "code",
   "execution_count": 1,
   "id": "b9d22b50",
   "metadata": {},
   "outputs": [],
   "source": [
    "from __future__ import print_function\n",
    "\n",
    "from tensorflow.keras.preprocessing import sequence\n",
    "from tensorflow.keras.models import Sequential\n",
    "from tensorflow.keras.layers import Dense, Embedding\n",
    "from tensorflow.keras.layers import LSTM\n",
    "from tensorflow.keras.datasets import imdb"
   ]
  },
  {
   "cell_type": "markdown",
   "id": "cf9a2857",
   "metadata": {},
   "source": [
    "## BaseLine"
   ]
  },
  {
   "cell_type": "code",
   "execution_count": 2,
   "id": "f60b31d0",
   "metadata": {},
   "outputs": [],
   "source": [
    "max_features = 20000\n",
    "maxlen = 80\n",
    "batch_size = 50"
   ]
  },
  {
   "cell_type": "code",
   "execution_count": 3,
   "id": "ac9d51a9",
   "metadata": {},
   "outputs": [
    {
     "name": "stdout",
     "output_type": "stream",
     "text": [
      "Загрузка данных...\n"
     ]
    }
   ],
   "source": [
    "print('Загрузка данных...')\n",
    "(x_train, y_train), (x_test, y_test) = imdb.load_data(num_words=max_features)"
   ]
  },
  {
   "cell_type": "code",
   "execution_count": 4,
   "id": "02a5b8ee",
   "metadata": {},
   "outputs": [],
   "source": [
    "# Retrieve the word index file mapping words to indices\n",
    "word_index = imdb.get_word_index()\n",
    "# Reverse the word index to obtain a dict mapping indices to words\n",
    "inverted_word_index = dict((i, word) for (word, i) in word_index.items())\n",
    "# Decode the first sequence in the dataset\n",
    "decoded_sequence = \" \".join(inverted_word_index[i] for i in x_train[0])"
   ]
  },
  {
   "cell_type": "code",
   "execution_count": 5,
   "id": "67ae14e3",
   "metadata": {},
   "outputs": [
    {
     "name": "stdout",
     "output_type": "stream",
     "text": [
      "25000 тренировочные последовательности\n",
      "25000 тестовые последовательности\n"
     ]
    }
   ],
   "source": [
    "print(len(x_train), 'тренировочные последовательности')\n",
    "print(len(x_test), 'тестовые последовательности')"
   ]
  },
  {
   "cell_type": "code",
   "execution_count": 6,
   "id": "42256f3a",
   "metadata": {},
   "outputs": [
    {
     "data": {
      "text/plain": [
       "218"
      ]
     },
     "execution_count": 6,
     "metadata": {},
     "output_type": "execute_result"
    }
   ],
   "source": [
    "len(x_train[0])"
   ]
  },
  {
   "cell_type": "code",
   "execution_count": 7,
   "id": "230fdc99",
   "metadata": {},
   "outputs": [
    {
     "name": "stdout",
     "output_type": "stream",
     "text": [
      "x_train shape: (25000, 80)\n",
      "x_test shape: (25000, 80)\n"
     ]
    }
   ],
   "source": [
    "x_train = sequence.pad_sequences(x_train, maxlen=maxlen)\n",
    "x_test = sequence.pad_sequences(x_test, maxlen=maxlen)\n",
    "print('x_train shape:', x_train.shape)\n",
    "print('x_test shape:', x_test.shape)"
   ]
  },
  {
   "cell_type": "code",
   "execution_count": 8,
   "id": "2fce4c72",
   "metadata": {},
   "outputs": [
    {
     "name": "stdout",
     "output_type": "stream",
     "text": [
      "Построение модели...\n"
     ]
    }
   ],
   "source": [
    "print('Построение модели...')\n",
    "model = Sequential()\n",
    "model.add(Embedding(max_features, 128))\n",
    "model.add(LSTM(128, dropout=0.2, recurrent_dropout=0.2))\n",
    "model.add(Dense(1, activation='sigmoid'))"
   ]
  },
  {
   "cell_type": "code",
   "execution_count": 9,
   "id": "e66d449d",
   "metadata": {},
   "outputs": [],
   "source": [
    "model.compile(loss='binary_crossentropy',\n",
    "              optimizer='adam',\n",
    "              metrics=['accuracy'])"
   ]
  },
  {
   "cell_type": "code",
   "execution_count": 10,
   "id": "ee058f40",
   "metadata": {},
   "outputs": [
    {
     "name": "stdout",
     "output_type": "stream",
     "text": [
      "Процесс обучения...\n",
      "500/500 [==============================] - 108s 209ms/step - loss: 0.4325 - accuracy: 0.7968 - val_loss: 0.3676 - val_accuracy: 0.8358\n"
     ]
    },
    {
     "data": {
      "text/plain": [
       "<keras.callbacks.History at 0x22de48a54c0>"
      ]
     },
     "execution_count": 10,
     "metadata": {},
     "output_type": "execute_result"
    }
   ],
   "source": [
    "print('Процесс обучения...')\n",
    "model.fit(x_train, y_train,\n",
    "          batch_size=batch_size,\n",
    "          epochs=1, # увеличьте при необходимости\n",
    "          validation_data=(x_test, y_test))"
   ]
  },
  {
   "cell_type": "code",
   "execution_count": 11,
   "id": "d9e94711",
   "metadata": {},
   "outputs": [
    {
     "name": "stdout",
     "output_type": "stream",
     "text": [
      "500/500 [==============================] - 13s 26ms/step - loss: 0.3676 - accuracy: 0.8358\n"
     ]
    }
   ],
   "source": [
    "score, acc = model.evaluate(x_test, y_test,\n",
    "                            batch_size=batch_size)"
   ]
  },
  {
   "cell_type": "code",
   "execution_count": 12,
   "id": "65ae8832",
   "metadata": {},
   "outputs": [
    {
     "name": "stdout",
     "output_type": "stream",
     "text": [
      "Результат при тестировании: 0.3675772249698639\n",
      "Тестовая точность: 0.8357999920845032\n"
     ]
    }
   ],
   "source": [
    "print('Результат при тестировании:', score)\n",
    "print('Тестовая точность:', acc)"
   ]
  },
  {
   "cell_type": "markdown",
   "id": "2119252f",
   "metadata": {},
   "source": [
    "## Модель на основе двух слоёв LSTM"
   ]
  },
  {
   "cell_type": "code",
   "execution_count": 13,
   "id": "813f635a",
   "metadata": {},
   "outputs": [
    {
     "name": "stdout",
     "output_type": "stream",
     "text": [
      "Построение модели...\n"
     ]
    }
   ],
   "source": [
    "print('Построение модели...')\n",
    "model = Sequential()\n",
    "model.add(Embedding(max_features, 128))\n",
    "model.add(LSTM(128,return_sequences=True, dropout=0.2, recurrent_dropout=0.2))\n",
    "model.add(LSTM(128, dropout=0.2, recurrent_dropout=0.2))\n",
    "model.add(Dense(1, activation='sigmoid'))"
   ]
  },
  {
   "cell_type": "code",
   "execution_count": 14,
   "id": "1fded3ba",
   "metadata": {},
   "outputs": [],
   "source": [
    "model.compile(loss='binary_crossentropy',\n",
    "              optimizer='adam',\n",
    "              metrics=['accuracy'])"
   ]
  },
  {
   "cell_type": "code",
   "execution_count": 15,
   "id": "a1b06137",
   "metadata": {},
   "outputs": [
    {
     "name": "stdout",
     "output_type": "stream",
     "text": [
      "Процесс обучения...\n",
      "Epoch 1/3\n",
      "500/500 [==============================] - 216s 425ms/step - loss: 0.4310 - accuracy: 0.7954 - val_loss: 0.3701 - val_accuracy: 0.8397\n",
      "Epoch 2/3\n",
      "500/500 [==============================] - 212s 425ms/step - loss: 0.2552 - accuracy: 0.8990 - val_loss: 0.3680 - val_accuracy: 0.8404\n",
      "Epoch 3/3\n",
      "500/500 [==============================] - 213s 426ms/step - loss: 0.1750 - accuracy: 0.9354 - val_loss: 0.4807 - val_accuracy: 0.8279\n"
     ]
    },
    {
     "data": {
      "text/plain": [
       "<keras.callbacks.History at 0x22de70ecf10>"
      ]
     },
     "execution_count": 15,
     "metadata": {},
     "output_type": "execute_result"
    }
   ],
   "source": [
    "print('Процесс обучения...')\n",
    "model.fit(x_train, y_train,\n",
    "          batch_size=batch_size,\n",
    "          epochs=3,\n",
    "          validation_data=(x_test, y_test))"
   ]
  },
  {
   "cell_type": "code",
   "execution_count": 16,
   "id": "4116573a",
   "metadata": {},
   "outputs": [
    {
     "name": "stdout",
     "output_type": "stream",
     "text": [
      "500/500 [==============================] - 26s 51ms/step - loss: 0.4807 - accuracy: 0.8279\n"
     ]
    }
   ],
   "source": [
    "score, acc = model.evaluate(x_test, y_test,\n",
    "                            batch_size=batch_size)"
   ]
  },
  {
   "cell_type": "code",
   "execution_count": 17,
   "id": "afdc0f52",
   "metadata": {},
   "outputs": [
    {
     "name": "stdout",
     "output_type": "stream",
     "text": [
      "Результат при тестировании: 0.4807418882846832\n",
      "Тестовая точность: 0.8279200196266174\n"
     ]
    }
   ],
   "source": [
    "print('Результат при тестировании:', score)\n",
    "print('Тестовая точность:', acc)"
   ]
  },
  {
   "cell_type": "markdown",
   "id": "e23aa051",
   "metadata": {},
   "source": [
    "## Модель на основе SimpleRNN"
   ]
  },
  {
   "cell_type": "code",
   "execution_count": 18,
   "id": "c886153a",
   "metadata": {},
   "outputs": [],
   "source": [
    "from tensorflow.keras.layers import SimpleRNN"
   ]
  },
  {
   "cell_type": "code",
   "execution_count": 19,
   "id": "7ec819ec",
   "metadata": {},
   "outputs": [
    {
     "name": "stdout",
     "output_type": "stream",
     "text": [
      "Построение модели...\n"
     ]
    }
   ],
   "source": [
    "print('Построение модели...')\n",
    "model = Sequential()\n",
    "model.add(Embedding(max_features, 128))\n",
    "model.add(SimpleRNN(128, dropout=0.2, recurrent_dropout=0.2))\n",
    "model.add(Dense(1, activation='sigmoid'))"
   ]
  },
  {
   "cell_type": "code",
   "execution_count": 20,
   "id": "fea2f412",
   "metadata": {},
   "outputs": [],
   "source": [
    "model.compile(loss='binary_crossentropy',\n",
    "              optimizer='adam',\n",
    "              metrics=['accuracy'])"
   ]
  },
  {
   "cell_type": "code",
   "execution_count": 21,
   "id": "c9162b90",
   "metadata": {},
   "outputs": [
    {
     "name": "stdout",
     "output_type": "stream",
     "text": [
      "Процесс обучения...\n",
      "500/500 [==============================] - 37s 71ms/step - loss: 0.6848 - accuracy: 0.5485 - val_loss: 0.5602 - val_accuracy: 0.7087\n"
     ]
    },
    {
     "data": {
      "text/plain": [
       "<keras.callbacks.History at 0x22de7290400>"
      ]
     },
     "execution_count": 21,
     "metadata": {},
     "output_type": "execute_result"
    }
   ],
   "source": [
    "print('Процесс обучения...')\n",
    "model.fit(x_train, y_train,\n",
    "          batch_size=batch_size,\n",
    "          epochs=1, \n",
    "          validation_data=(x_test, y_test))"
   ]
  },
  {
   "cell_type": "code",
   "execution_count": 22,
   "id": "98bcab7c",
   "metadata": {},
   "outputs": [
    {
     "name": "stdout",
     "output_type": "stream",
     "text": [
      "500/500 [==============================] - 5s 10ms/step - loss: 0.5602 - accuracy: 0.7087\n"
     ]
    }
   ],
   "source": [
    "score, acc = model.evaluate(x_test, y_test,\n",
    "                            batch_size=batch_size)"
   ]
  },
  {
   "cell_type": "code",
   "execution_count": 23,
   "id": "84e656e0",
   "metadata": {},
   "outputs": [
    {
     "name": "stdout",
     "output_type": "stream",
     "text": [
      "Результат при тестировании: 0.5601586103439331\n",
      "Тестовая точность: 0.7086799740791321\n"
     ]
    }
   ],
   "source": [
    "print('Результат при тестировании:', score)\n",
    "print('Тестовая точность:', acc)"
   ]
  },
  {
   "cell_type": "markdown",
   "id": "c0aab005",
   "metadata": {},
   "source": [
    "## Модель на основе GRU"
   ]
  },
  {
   "cell_type": "code",
   "execution_count": 24,
   "id": "7ec77c1b",
   "metadata": {},
   "outputs": [],
   "source": [
    "from tensorflow.keras.layers import GRU"
   ]
  },
  {
   "cell_type": "code",
   "execution_count": 25,
   "id": "e70488d9",
   "metadata": {},
   "outputs": [
    {
     "name": "stdout",
     "output_type": "stream",
     "text": [
      "Построение модели...\n"
     ]
    }
   ],
   "source": [
    "print('Построение модели...')\n",
    "model = Sequential()\n",
    "model.add(Embedding(max_features, 128))\n",
    "model.add(GRU(128, dropout=0.2, recurrent_dropout=0.2))\n",
    "model.add(Dense(1, activation='sigmoid'))"
   ]
  },
  {
   "cell_type": "code",
   "execution_count": 26,
   "id": "6d4dc587",
   "metadata": {},
   "outputs": [],
   "source": [
    "model.compile(loss='binary_crossentropy',\n",
    "              optimizer='adam',\n",
    "              metrics=['accuracy'])"
   ]
  },
  {
   "cell_type": "code",
   "execution_count": 27,
   "id": "376a7e8b",
   "metadata": {},
   "outputs": [
    {
     "name": "stdout",
     "output_type": "stream",
     "text": [
      "Процесс обучения...\n",
      "500/500 [==============================] - 91s 178ms/step - loss: 0.4438 - accuracy: 0.7846 - val_loss: 0.3644 - val_accuracy: 0.8406\n"
     ]
    },
    {
     "data": {
      "text/plain": [
       "<keras.callbacks.History at 0x22de0220190>"
      ]
     },
     "execution_count": 27,
     "metadata": {},
     "output_type": "execute_result"
    }
   ],
   "source": [
    "print('Процесс обучения...')\n",
    "model.fit(x_train, y_train,\n",
    "          batch_size=batch_size,\n",
    "          epochs=1,\n",
    "          validation_data=(x_test, y_test))"
   ]
  },
  {
   "cell_type": "code",
   "execution_count": 28,
   "id": "85bd60ca",
   "metadata": {},
   "outputs": [
    {
     "name": "stdout",
     "output_type": "stream",
     "text": [
      "500/500 [==============================] - 11s 23ms/step - loss: 0.3644 - accuracy: 0.8406\n"
     ]
    }
   ],
   "source": [
    "score, acc = model.evaluate(x_test, y_test,\n",
    "                            batch_size=batch_size)"
   ]
  },
  {
   "cell_type": "code",
   "execution_count": 29,
   "id": "c1b6bc9e",
   "metadata": {},
   "outputs": [
    {
     "name": "stdout",
     "output_type": "stream",
     "text": [
      "Результат при тестировании: 0.3644225299358368\n",
      "Тестовая точность: 0.8406400084495544\n"
     ]
    }
   ],
   "source": [
    "print('Результат при тестировании:', score)\n",
    "print('Тестовая точность:', acc)"
   ]
  },
  {
   "cell_type": "markdown",
   "id": "37ad0bdc",
   "metadata": {},
   "source": [
    "## Модель с изменнёными начальными данными"
   ]
  },
  {
   "cell_type": "code",
   "execution_count": 58,
   "id": "cc83d5f9",
   "metadata": {},
   "outputs": [],
   "source": [
    "maxlen = 200"
   ]
  },
  {
   "cell_type": "code",
   "execution_count": 59,
   "id": "d02ac7aa",
   "metadata": {},
   "outputs": [
    {
     "name": "stdout",
     "output_type": "stream",
     "text": [
      "x_train shape: (25000, 200)\n",
      "x_test shape: (25000, 200)\n"
     ]
    }
   ],
   "source": [
    "x_train = sequence.pad_sequences(x_train, maxlen=maxlen)\n",
    "x_test = sequence.pad_sequences(x_test, maxlen=maxlen)\n",
    "print('x_train shape:', x_train.shape)\n",
    "print('x_test shape:', x_test.shape)"
   ]
  },
  {
   "cell_type": "code",
   "execution_count": 65,
   "id": "1a46f605",
   "metadata": {},
   "outputs": [
    {
     "name": "stdout",
     "output_type": "stream",
     "text": [
      "Построение модели...\n"
     ]
    }
   ],
   "source": [
    "print('Построение модели...')\n",
    "model = Sequential()\n",
    "model.add(Embedding(max_features, 128))\n",
    "model.add(GRU(128, dropout=0.2, recurrent_dropout=0.2))\n",
    "model.add(Dense(1, activation='sigmoid'))"
   ]
  },
  {
   "cell_type": "code",
   "execution_count": 66,
   "id": "b7f806da",
   "metadata": {},
   "outputs": [],
   "source": [
    "model.compile(loss='binary_crossentropy',\n",
    "              optimizer='adam',\n",
    "              metrics=['accuracy'])"
   ]
  },
  {
   "cell_type": "code",
   "execution_count": 67,
   "id": "39fcb066",
   "metadata": {},
   "outputs": [
    {
     "name": "stdout",
     "output_type": "stream",
     "text": [
      "Процесс обучения...\n",
      "500/500 [==============================] - 258s 511ms/step - loss: 0.4656 - accuracy: 0.7730 - val_loss: 0.3778 - val_accuracy: 0.8344\n"
     ]
    },
    {
     "data": {
      "text/plain": [
       "<keras.callbacks.History at 0x22d87d2ce20>"
      ]
     },
     "execution_count": 67,
     "metadata": {},
     "output_type": "execute_result"
    }
   ],
   "source": [
    "print('Процесс обучения...')\n",
    "model.fit(x_train, y_train,\n",
    "          batch_size=batch_size,\n",
    "          epochs=1,\n",
    "          validation_data=(x_test, y_test))"
   ]
  },
  {
   "cell_type": "code",
   "execution_count": 68,
   "id": "969f1555",
   "metadata": {},
   "outputs": [
    {
     "name": "stdout",
     "output_type": "stream",
     "text": [
      "500/500 [==============================] - 28s 56ms/step - loss: 0.3778 - accuracy: 0.8344\n"
     ]
    }
   ],
   "source": [
    "score, acc = model.evaluate(x_test, y_test,\n",
    "                            batch_size=batch_size)"
   ]
  },
  {
   "cell_type": "code",
   "execution_count": 69,
   "id": "b4c35822",
   "metadata": {},
   "outputs": [
    {
     "name": "stdout",
     "output_type": "stream",
     "text": [
      "Результат при тестировании: 0.37775859236717224\n",
      "Тестовая точность: 0.8343999981880188\n"
     ]
    }
   ],
   "source": [
    "print('Результат при тестировании:', score)\n",
    "print('Тестовая точность:', acc)"
   ]
  },
  {
   "cell_type": "markdown",
   "id": "a08505c1",
   "metadata": {},
   "source": [
    "## Выводы:"
   ]
  },
  {
   "cell_type": "markdown",
   "id": "52b41ddb",
   "metadata": {},
   "source": [
    "В ходе работы протестировали 3 типа моделей, основанных на слоях LSTM, SimpleRNN, GRU. \n",
    "Разница по метрикам между GRU и LSTM оказалась незначительной, поэтому в выборе лучшей модели в основном учитывалась скорость работы модели.\n",
    "По итогам работы лучший результат показала модель GRU.    \n",
    "\n",
    "Полученные метрики отличаются на малую величину. В связи с этим, можно предположить, что данные изменения вызваны не качественными улучшениями моделей, а статистическими погрешностями. \n",
    "Так же стоит отметить, что увеличение количества слоёв и длинны комментария привели к ухудшению результата. "
   ]
  },
  {
   "cell_type": "code",
   "execution_count": null,
   "id": "71c5b297",
   "metadata": {},
   "outputs": [],
   "source": []
  },
  {
   "cell_type": "markdown",
   "id": "8fda819b",
   "metadata": {},
   "source": [
    "## Генерация текста"
   ]
  },
  {
   "cell_type": "code",
   "execution_count": 37,
   "id": "8ed5de44",
   "metadata": {},
   "outputs": [],
   "source": [
    "import numpy as np\n",
    "from tensorflow.keras.layers import Dense, Activation\n",
    "from tensorflow.keras.layers import SimpleRNN, LSTM, GRU\n",
    "from tensorflow.keras.models import Sequential"
   ]
  },
  {
   "cell_type": "code",
   "execution_count": 38,
   "id": "f923b9eb",
   "metadata": {},
   "outputs": [],
   "source": [
    "with open(\"Tolstoy.txt\", 'rb') as _in:\n",
    "    lines = []\n",
    "    for line in _in:\n",
    "        line = line.strip().lower().decode(\"utf-8\", \"ignore\")\n",
    "        if len(line) == 0:\n",
    "            continue\n",
    "        lines.append(line)\n",
    "text = \" \".join(lines)\n",
    "chars = set(text)\n",
    "nb_chars = len(chars)"
   ]
  },
  {
   "cell_type": "code",
   "execution_count": 39,
   "id": "9749517c",
   "metadata": {},
   "outputs": [
    {
     "data": {
      "text/plain": [
       "126"
      ]
     },
     "execution_count": 39,
     "metadata": {},
     "output_type": "execute_result"
    }
   ],
   "source": [
    "len(chars)"
   ]
  },
  {
   "cell_type": "code",
   "execution_count": 40,
   "id": "e0925a82",
   "metadata": {
    "scrolled": false
   },
   "outputs": [
    {
     "data": {
      "text/plain": [
       "{' ',\n",
       " '!',\n",
       " '#',\n",
       " '&',\n",
       " '(',\n",
       " ')',\n",
       " '*',\n",
       " ',',\n",
       " '-',\n",
       " '.',\n",
       " '/',\n",
       " '0',\n",
       " '1',\n",
       " '2',\n",
       " '3',\n",
       " '4',\n",
       " '5',\n",
       " '6',\n",
       " '7',\n",
       " '8',\n",
       " '9',\n",
       " ':',\n",
       " ';',\n",
       " '<',\n",
       " '>',\n",
       " '?',\n",
       " '[',\n",
       " ']',\n",
       " '_',\n",
       " 'a',\n",
       " 'b',\n",
       " 'c',\n",
       " 'd',\n",
       " 'e',\n",
       " 'f',\n",
       " 'g',\n",
       " 'h',\n",
       " 'i',\n",
       " 'j',\n",
       " 'k',\n",
       " 'l',\n",
       " 'm',\n",
       " 'n',\n",
       " 'o',\n",
       " 'p',\n",
       " 'q',\n",
       " 'r',\n",
       " 's',\n",
       " 't',\n",
       " 'u',\n",
       " 'v',\n",
       " 'w',\n",
       " 'x',\n",
       " 'y',\n",
       " 'z',\n",
       " '\\xa0',\n",
       " '«',\n",
       " '»',\n",
       " 'А',\n",
       " 'Б',\n",
       " 'В',\n",
       " 'Г',\n",
       " 'Д',\n",
       " 'Е',\n",
       " 'Ж',\n",
       " 'З',\n",
       " 'И',\n",
       " 'Й',\n",
       " 'К',\n",
       " 'Л',\n",
       " 'М',\n",
       " 'Н',\n",
       " 'О',\n",
       " 'П',\n",
       " 'Р',\n",
       " 'С',\n",
       " 'Т',\n",
       " 'У',\n",
       " 'Ф',\n",
       " 'Х',\n",
       " 'Ц',\n",
       " 'Ч',\n",
       " 'Ш',\n",
       " 'Щ',\n",
       " 'Э',\n",
       " 'Ю',\n",
       " 'Я',\n",
       " 'а',\n",
       " 'б',\n",
       " 'в',\n",
       " 'г',\n",
       " 'д',\n",
       " 'е',\n",
       " 'ж',\n",
       " 'з',\n",
       " 'и',\n",
       " 'й',\n",
       " 'к',\n",
       " 'л',\n",
       " 'м',\n",
       " 'н',\n",
       " 'о',\n",
       " 'п',\n",
       " 'р',\n",
       " 'с',\n",
       " 'т',\n",
       " 'у',\n",
       " 'ф',\n",
       " 'х',\n",
       " 'ц',\n",
       " 'ч',\n",
       " 'ш',\n",
       " 'щ',\n",
       " 'ъ',\n",
       " 'ы',\n",
       " 'ь',\n",
       " 'э',\n",
       " 'ю',\n",
       " 'я',\n",
       " 'ё',\n",
       " '–',\n",
       " '—',\n",
       " '’',\n",
       " '“',\n",
       " '„',\n",
       " '…'}"
      ]
     },
     "execution_count": 40,
     "metadata": {},
     "output_type": "execute_result"
    }
   ],
   "source": [
    "chars"
   ]
  },
  {
   "cell_type": "code",
   "execution_count": 41,
   "id": "b1541adb",
   "metadata": {},
   "outputs": [],
   "source": [
    "char2index = {c: i for i, c in enumerate(chars)}\n",
    "index2char = {i: c for i, c in enumerate(chars)}"
   ]
  },
  {
   "cell_type": "code",
   "execution_count": 42,
   "id": "660f0614",
   "metadata": {},
   "outputs": [],
   "source": [
    "SEQLEN, STEP = 10, 1\n",
    "input_chars, label_chars = [], []\n",
    "\n",
    "for i in range(0, len(text) - SEQLEN, STEP):\n",
    "    input_chars.append(text[i: i + SEQLEN])\n",
    "    label_chars.append(text[i + SEQLEN])"
   ]
  },
  {
   "cell_type": "code",
   "execution_count": 43,
   "id": "359d2174",
   "metadata": {},
   "outputs": [
    {
     "data": {
      "text/plain": [
       "776493"
      ]
     },
     "execution_count": 43,
     "metadata": {},
     "output_type": "execute_result"
    }
   ],
   "source": [
    "len(input_chars)"
   ]
  },
  {
   "cell_type": "code",
   "execution_count": 44,
   "id": "35193fbb",
   "metadata": {},
   "outputs": [
    {
     "data": {
      "text/plain": [
       "('Спасибо, ч', 'т')"
      ]
     },
     "execution_count": 44,
     "metadata": {},
     "output_type": "execute_result"
    }
   ],
   "source": [
    "input_chars[0], label_chars[0]"
   ]
  },
  {
   "cell_type": "code",
   "execution_count": 45,
   "id": "9a12c1a8",
   "metadata": {},
   "outputs": [
    {
     "name": "stderr",
     "output_type": "stream",
     "text": [
      "C:\\Users\\spvag\\AppData\\Local\\Temp/ipykernel_11816/508428251.py:3: DeprecationWarning: `np.bool` is a deprecated alias for the builtin `bool`. To silence this warning, use `bool` by itself. Doing this will not modify any behavior and is safe. If you specifically wanted the numpy scalar type, use `np.bool_` here.\n",
      "Deprecated in NumPy 1.20; for more details and guidance: https://numpy.org/devdocs/release/1.20.0-notes.html#deprecations\n",
      "  X = np.zeros((len(input_chars), SEQLEN, nb_chars), dtype=np.bool)\n",
      "C:\\Users\\spvag\\AppData\\Local\\Temp/ipykernel_11816/508428251.py:4: DeprecationWarning: `np.bool` is a deprecated alias for the builtin `bool`. To silence this warning, use `bool` by itself. Doing this will not modify any behavior and is safe. If you specifically wanted the numpy scalar type, use `np.bool_` here.\n",
      "Deprecated in NumPy 1.20; for more details and guidance: https://numpy.org/devdocs/release/1.20.0-notes.html#deprecations\n",
      "  y = np.zeros((len(input_chars), nb_chars), dtype=np.bool)\n"
     ]
    }
   ],
   "source": [
    "X = np.zeros((len(input_chars), SEQLEN, nb_chars), dtype=np.bool)\n",
    "y = np.zeros((len(input_chars), nb_chars), dtype=np.bool)\n",
    "for i, input_char in enumerate(input_chars):\n",
    "    for j, ch in enumerate(input_char):\n",
    "        X[i, j, char2index[ch]] = 1\n",
    "    y[i, char2index[label_chars[i]]] = 1"
   ]
  },
  {
   "cell_type": "code",
   "execution_count": 46,
   "id": "e9b32d08",
   "metadata": {},
   "outputs": [
    {
     "data": {
      "text/plain": [
       "(776493, 10, 126)"
      ]
     },
     "execution_count": 46,
     "metadata": {},
     "output_type": "execute_result"
    }
   ],
   "source": [
    "X.shape"
   ]
  },
  {
   "cell_type": "code",
   "execution_count": 47,
   "id": "e4282f39",
   "metadata": {},
   "outputs": [],
   "source": [
    "BATCH_SIZE, HIDDEN_SIZE = 128, 128\n",
    "NUM_ITERATIONS = 10 \n",
    "NUM_EPOCHS_PER_ITERATION = 1\n",
    "NUM_PREDS_PER_EPOCH = 100"
   ]
  },
  {
   "cell_type": "code",
   "execution_count": 48,
   "id": "0da6a788",
   "metadata": {},
   "outputs": [],
   "source": [
    "model = Sequential()\n",
    "model.add(\n",
    "    GRU(\n",
    "        HIDDEN_SIZE,\n",
    "        return_sequences=False,\n",
    "        input_shape=(SEQLEN, nb_chars),\n",
    "        unroll=True\n",
    "    )\n",
    ")\n",
    "model.add(Dense(nb_chars))\n",
    "model.add(Activation(\"softmax\"))\n",
    "model.compile(loss=\"categorical_crossentropy\", optimizer=\"rmsprop\")"
   ]
  },
  {
   "cell_type": "code",
   "execution_count": 49,
   "id": "ce2a5f14",
   "metadata": {},
   "outputs": [
    {
     "name": "stdout",
     "output_type": "stream",
     "text": [
      "==================================================\n",
      "Итерация #: 0\n",
      "6067/6067 [==============================] - 67s 11ms/step - loss: 2.3049\n",
      "Генерация из посева: снул огоне\n",
      "снул огонел он поделал он поделал он поделал он поделал он поделал он поделал он поделал он поделал он поделал==================================================\n",
      "Итерация #: 1\n",
      "6067/6067 [==============================] - 65s 11ms/step - loss: 1.9098\n",
      "Генерация из посева:  — тихоньк\n",
      " — тихонькой и подвернал он подвернал он подвернал он подвернал он подвернал он подвернал он подвернал он подв==================================================\n",
      "Итерация #: 2\n",
      "6067/6067 [==============================] - 65s 11ms/step - loss: 1.7783\n",
      "Генерация из посева:  он уже вы\n",
      " он уже высокой положения и не должен был не положения и не должен был не положения и не должен был не положен==================================================\n",
      "Итерация #: 3\n",
      "6067/6067 [==============================] - 64s 11ms/step - loss: 1.7073\n",
      "Генерация из посева:  гору. Нас\n",
      " гору. Настоял к сторону в своей на все положение с своей на все положение с своей на все положение с своей на==================================================\n",
      "Итерация #: 4\n",
      "6067/6067 [==============================] - 65s 11ms/step - loss: 1.6620\n",
      "Генерация из посева: влекательн\n",
      "влекательно было не полковой командир, как будто он все улыбнулась с него не полковой командир, как будто он в==================================================\n",
      "Итерация #: 5\n",
      "6067/6067 [==============================] - 64s 11ms/step - loss: 1.6308\n",
      "Генерация из посева: апротив, в\n",
      "апротив, в котором он вышел на своему под обеда с своим полковой командира в своей возможно было не слушать в ==================================================\n",
      "Итерация #: 6\n",
      "6067/6067 [==============================] - 65s 11ms/step - loss: 1.6074\n",
      "Генерация из посева: яжна и кня\n",
      "яжна и князь Андрей посторонность и постоянно было не подошел к комнату, как будто он подошел к комнату, как б==================================================\n",
      "Итерация #: 7\n",
      "6067/6067 [==============================] - 65s 11ms/step - loss: 1.5890\n",
      "Генерация из посева: еса!! Что,\n",
      "еса!! Что, в комнату и подошел к командиром и подошел к командиром и подошел к командиром и подошел к командир==================================================\n",
      "Итерация #: 8\n",
      "6067/6067 [==============================] - 67s 11ms/step - loss: 1.5737\n",
      "Генерация из посева:  — отвечал\n",
      " — отвечал своему поднял себя в своем поднял себя в своем поднял себя в своем поднял себя в своем поднял себя ==================================================\n",
      "Итерация #: 9\n",
      "6067/6067 [==============================] - 64s 11ms/step - loss: 1.5610\n",
      "Генерация из посева:  не отвеча\n",
      " не отвечал на него не подумал он с него не все было подошел к командира и подумал он с него не все было подош"
     ]
    }
   ],
   "source": [
    "for iteration in range(NUM_ITERATIONS):\n",
    "\n",
    "    print(\"=\" * 50)\n",
    "    print(\"Итерация #: %d\" % (iteration))\n",
    "    model.fit(X, y, batch_size=BATCH_SIZE, epochs=NUM_EPOCHS_PER_ITERATION)\n",
    "\n",
    "    test_idx = np.random.randint(len(input_chars))\n",
    "    test_chars = input_chars[test_idx]\n",
    "\n",
    "    print(\"Генерация из посева: %s\" % (test_chars))\n",
    "    print(test_chars, end=\"\")\n",
    "    for i in range(NUM_PREDS_PER_EPOCH):\n",
    "\n",
    "        X_test = np.zeros((1, SEQLEN, nb_chars))\n",
    "        for j, ch in enumerate(test_chars):\n",
    "            X_test[0, j, char2index[ch]] = 1\n",
    "\n",
    "        pred = model.predict(X_test, verbose=0)[0]\n",
    "        y_pred = index2char[np.argmax(pred)]\n",
    "\n",
    "        print(y_pred, end=\"\")\n",
    "\n",
    "        test_chars = test_chars[1:] + y_pred"
   ]
  },
  {
   "cell_type": "code",
   "execution_count": null,
   "id": "482ff58a",
   "metadata": {},
   "outputs": [],
   "source": []
  },
  {
   "cell_type": "code",
   "execution_count": 50,
   "id": "70d93485",
   "metadata": {},
   "outputs": [],
   "source": [
    "SEQLEN, STEP = 25, 1\n",
    "input_chars, label_chars = [], []\n",
    "\n",
    "for i in range(0, len(text) - SEQLEN, STEP):\n",
    "    input_chars.append(text[i: i + SEQLEN])\n",
    "    label_chars.append(text[i + SEQLEN])"
   ]
  },
  {
   "cell_type": "code",
   "execution_count": 51,
   "id": "c6b65475",
   "metadata": {},
   "outputs": [
    {
     "data": {
      "text/plain": [
       "776478"
      ]
     },
     "execution_count": 51,
     "metadata": {},
     "output_type": "execute_result"
    }
   ],
   "source": [
    "len(input_chars)"
   ]
  },
  {
   "cell_type": "code",
   "execution_count": 52,
   "id": "db674b0f",
   "metadata": {},
   "outputs": [
    {
     "data": {
      "text/plain": [
       "('Спасибо, что скачали книг', 'у')"
      ]
     },
     "execution_count": 52,
     "metadata": {},
     "output_type": "execute_result"
    }
   ],
   "source": [
    "input_chars[0], label_chars[0]"
   ]
  },
  {
   "cell_type": "code",
   "execution_count": 53,
   "id": "883cd00b",
   "metadata": {},
   "outputs": [
    {
     "name": "stderr",
     "output_type": "stream",
     "text": [
      "C:\\Users\\spvag\\AppData\\Local\\Temp/ipykernel_11816/508428251.py:3: DeprecationWarning: `np.bool` is a deprecated alias for the builtin `bool`. To silence this warning, use `bool` by itself. Doing this will not modify any behavior and is safe. If you specifically wanted the numpy scalar type, use `np.bool_` here.\n",
      "Deprecated in NumPy 1.20; for more details and guidance: https://numpy.org/devdocs/release/1.20.0-notes.html#deprecations\n",
      "  X = np.zeros((len(input_chars), SEQLEN, nb_chars), dtype=np.bool)\n",
      "C:\\Users\\spvag\\AppData\\Local\\Temp/ipykernel_11816/508428251.py:4: DeprecationWarning: `np.bool` is a deprecated alias for the builtin `bool`. To silence this warning, use `bool` by itself. Doing this will not modify any behavior and is safe. If you specifically wanted the numpy scalar type, use `np.bool_` here.\n",
      "Deprecated in NumPy 1.20; for more details and guidance: https://numpy.org/devdocs/release/1.20.0-notes.html#deprecations\n",
      "  y = np.zeros((len(input_chars), nb_chars), dtype=np.bool)\n"
     ]
    }
   ],
   "source": [
    "X = np.zeros((len(input_chars), SEQLEN, nb_chars), dtype=np.bool)\n",
    "y = np.zeros((len(input_chars), nb_chars), dtype=np.bool)\n",
    "for i, input_char in enumerate(input_chars):\n",
    "    for j, ch in enumerate(input_char):\n",
    "        X[i, j, char2index[ch]] = 1\n",
    "    y[i, char2index[label_chars[i]]] = 1"
   ]
  },
  {
   "cell_type": "code",
   "execution_count": 54,
   "id": "b20e5cc3",
   "metadata": {},
   "outputs": [],
   "source": [
    "BATCH_SIZE, HIDDEN_SIZE = 128, 256\n",
    "NUM_ITERATIONS = 10 \n",
    "NUM_EPOCHS_PER_ITERATION = 1\n",
    "NUM_PREDS_PER_EPOCH = 100"
   ]
  },
  {
   "cell_type": "code",
   "execution_count": 55,
   "id": "2d2d0a57",
   "metadata": {},
   "outputs": [],
   "source": [
    "model = Sequential()\n",
    "model.add(\n",
    "    GRU(\n",
    "        HIDDEN_SIZE,\n",
    "        return_sequences=False,\n",
    "        input_shape=(SEQLEN, nb_chars),\n",
    "        unroll=True\n",
    "    )\n",
    ")\n",
    "model.add(Dense(nb_chars))\n",
    "model.add(Activation(\"softmax\"))\n",
    "model.compile(loss=\"categorical_crossentropy\", optimizer=\"rmsprop\")"
   ]
  },
  {
   "cell_type": "code",
   "execution_count": 56,
   "id": "fda8392f",
   "metadata": {},
   "outputs": [
    {
     "name": "stdout",
     "output_type": "stream",
     "text": [
      "==================================================\n",
      "Итерация #: 0\n",
      "6067/6067 [==============================] - 394s 64ms/step - loss: 2.1654\n",
      "Генерация из посева: отец очень любил, занимал\n",
      "отец очень любил, занимали и положение и положение и положение и положение и положение и положение и положение и положение и ==================================================\n",
      "Итерация #: 1\n",
      "6067/6067 [==============================] - 394s 65ms/step - loss: 1.7490\n",
      "Генерация из посева:  от меня никакого титула.\n",
      " от меня никакого титула. — Не все это не все это не все рассказывали о том же в себе не ответил с него не ответила княжна Ма==================================================\n",
      "Итерация #: 2\n",
      "6067/6067 [==============================] - 392s 65ms/step - loss: 1.6140\n",
      "Генерация из посева: с армией перешел на левый\n",
      "с армией перешел на левый солдат, и после стояли и после стояли и после стояли и после стояли и после стояли и после стояли и==================================================\n",
      "Итерация #: 3\n",
      "6067/6067 [==============================] - 395s 65ms/step - loss: 1.5407\n",
      "Генерация из посева: ея носителем своих военны\n",
      "ея носителем своих военным и своего приятное выражением на великой улыбкой и подошел к нему и своим голосом с своими без полк==================================================\n",
      "Итерация #: 4\n",
      "6067/6067 [==============================] - 393s 65ms/step - loss: 1.4927\n",
      "Генерация из посева: мим овладел князь Василий\n",
      "мим овладел князь Василий с своими полкового командира, который он подходил от него дорогу и после смотра и не понимал и под ==================================================\n",
      "Итерация #: 5\n",
      "6067/6067 [==============================] - 398s 66ms/step - loss: 1.4580\n",
      "Генерация из посева: ьно надвинулась на него. \n",
      "ьно надвинулась на него. — Не все так же представлялся и смехались в гостиную и поднялся и сказал князь Андрей подавал его по==================================================\n",
      "Итерация #: 6\n",
      "6067/6067 [==============================] - 403s 66ms/step - loss: 1.4320\n",
      "Генерация из посева: про багрового генерала, г\n",
      "про багрового генерала, говорил князь Андрей, в то время как он сделал его и подошел к нему от себя и стараясь и принять его ==================================================\n",
      "Итерация #: 7\n",
      "6067/6067 [==============================] - 402s 66ms/step - loss: 1.4104\n",
      "Генерация из посева: ясь. — cela nous convient\n",
      "ясь. — cela nous convient de la prince des nes a la pas de pour de prince au encore de comme comme comme comme comme comme co==================================================\n",
      "Итерация #: 8\n",
      "6067/6067 [==============================] - 404s 67ms/step - loss: 1.3934\n",
      "Генерация из посева: цала княжна Марья. — ah! \n",
      "цала княжна Марья. — ah! ch&#232;re et de comme de comme de condre de condre de comprende comme comme comme comme comme comme==================================================\n",
      "Итерация #: 9\n",
      "6067/6067 [==============================] - 411s 68ms/step - loss: 1.3790\n",
      "Генерация из посева: ием. Неожиданно, при виде\n",
      "ием. Неожиданно, при виде его в своем положении и постоянно с торопливом положении и постоянно с торопливом положении и посто"
     ]
    }
   ],
   "source": [
    "for iteration in range(NUM_ITERATIONS):\n",
    "\n",
    "    print(\"=\" * 50)\n",
    "    print(\"Итерация #: %d\" % (iteration))\n",
    "    model.fit(X, y, batch_size=BATCH_SIZE, epochs=NUM_EPOCHS_PER_ITERATION)\n",
    "\n",
    "    test_idx = np.random.randint(len(input_chars))\n",
    "    test_chars = input_chars[test_idx]\n",
    "\n",
    "    print(\"Генерация из посева: %s\" % (test_chars))\n",
    "    print(test_chars, end=\"\")\n",
    "    for i in range(NUM_PREDS_PER_EPOCH):\n",
    "\n",
    "        X_test = np.zeros((1, SEQLEN, nb_chars))\n",
    "        for j, ch in enumerate(test_chars):\n",
    "            X_test[0, j, char2index[ch]] = 1\n",
    "\n",
    "        pred = model.predict(X_test, verbose=0)[0]\n",
    "        y_pred = index2char[np.argmax(pred)]\n",
    "\n",
    "        print(y_pred, end=\"\")\n",
    "\n",
    "        test_chars = test_chars[1:] + y_pred"
   ]
  },
  {
   "cell_type": "markdown",
   "id": "fc80f45a",
   "metadata": {},
   "source": [
    "Повторим процесс обучения еще на 10 итераций"
   ]
  },
  {
   "cell_type": "code",
   "execution_count": 57,
   "id": "c602a07f",
   "metadata": {},
   "outputs": [
    {
     "name": "stdout",
     "output_type": "stream",
     "text": [
      "==================================================\n",
      "Итерация #: 0\n",
      "6067/6067 [==============================] - 404s 67ms/step - loss: 1.3664\n",
      "Генерация из посева: и, говорится, что «все ро\n",
      "и, говорится, что «все родный командир, не сказал князь Андрей с своим забытеля и старый казался в то время как будто не зная==================================================\n",
      "Итерация #: 1\n",
      "6067/6067 [==============================] - 408s 67ms/step - loss: 1.3562\n",
      "Генерация из посева: оторого он догнал еще в П\n",
      "оторого он догнал еще в Петербурге и старательно подходил к нему и после смотра и не под всем поступками под столом, как будт==================================================\n",
      "Итерация #: 2\n",
      "6067/6067 [==============================] - 410s 67ms/step - loss: 1.3471\n",
      "Генерация из посева:  в старину незапамятную и\n",
      " в старину незапамятную и поднимая поднимать свои полкового командира в своих неприятеля. — Нет, он понимаю, не понимаю, не п==================================================\n",
      "Итерация #: 3\n",
      "6067/6067 [==============================] - 410s 68ms/step - loss: 1.3391\n",
      "Генерация из посева: s beaux yeux d’un jeune h\n",
      "s beaux yeux d’un jeune homme.[1д4 - девото! — А я не могу и не находительство, что не понимали и подошел к кому на него и вс==================================================\n",
      "Итерация #: 4\n",
      "6067/6067 [==============================] - 419s 69ms/step - loss: 1.3319\n",
      "Генерация из посева: ить не нужно: женихи сами\n",
      "ить не нужно: женихи сами на своего положения к своему солдату, которые он не мог понять его выражение в своей комнате с свои==================================================\n",
      "Итерация #: 5\n",
      "6067/6067 [==============================] - 419s 69ms/step - loss: 1.3264\n",
      "Генерация из посева: тец был очень тронут им. \n",
      "тец был очень тронут им. — Ну, что ж это же вы можете полковник с своим конце солдат был после смерти. — Ну, что ж это же вы ==================================================\n",
      "Итерация #: 6\n",
      "6067/6067 [==============================] - 415s 68ms/step - loss: 1.3211\n",
      "Генерация из посева:  шагах наезжал на них, а \n",
      " шагах наезжал на них, а то в том же минуту не видать в своем командиру с своими обозыранному командиру. — Не хочешь не знаю,==================================================\n",
      "Итерация #: 7\n",
      "6067/6067 [==============================] - 421s 69ms/step - loss: 1.3161\n",
      "Генерация из посева:  Анатоль намерен ухаживат\n",
      " Анатоль намерен ухаживаться в том, что он все возможно было в том месте и все все его выражение выстрелов и подошел к нему и==================================================\n",
      "Итерация #: 8\n",
      "6067/6067 [==============================] - 426s 70ms/step - loss: 1.3122\n",
      "Генерация из посева: 25 брюмера 1805 г. 8 часо\n",
      "25 брюмера 1805 г. 8 часов подошел к нему и в то время, как выражение на столе, он наклонил голову и не поднимая глаза и подо==================================================\n",
      "Итерация #: 9\n",
      "6067/6067 [==============================] - 424s 70ms/step - loss: 1.3076\n",
      "Генерация из посева: ко что-то большое, яркое \n",
      "ко что-то большое, яркое лицо и все подошел к нему и поднял глаза и подошел к нему и поднял глаза и подошел к нему и поднял г"
     ]
    }
   ],
   "source": [
    "for iteration in range(NUM_ITERATIONS):\n",
    "\n",
    "    print(\"=\" * 50)\n",
    "    print(\"Итерация #: %d\" % (iteration))\n",
    "    model.fit(X, y, batch_size=BATCH_SIZE, epochs=NUM_EPOCHS_PER_ITERATION)\n",
    "\n",
    "    test_idx = np.random.randint(len(input_chars))\n",
    "    test_chars = input_chars[test_idx]\n",
    "\n",
    "    print(\"Генерация из посева: %s\" % (test_chars))\n",
    "    print(test_chars, end=\"\")\n",
    "    for i in range(NUM_PREDS_PER_EPOCH):\n",
    "\n",
    "        X_test = np.zeros((1, SEQLEN, nb_chars))\n",
    "        for j, ch in enumerate(test_chars):\n",
    "            X_test[0, j, char2index[ch]] = 1\n",
    "\n",
    "        pred = model.predict(X_test, verbose=0)[0]\n",
    "        y_pred = index2char[np.argmax(pred)]\n",
    "\n",
    "        print(y_pred, end=\"\")\n",
    "\n",
    "        test_chars = test_chars[1:] + y_pred"
   ]
  },
  {
   "cell_type": "markdown",
   "id": "cc99e58a",
   "metadata": {},
   "source": [
    "## Выводы:"
   ]
  },
  {
   "cell_type": "markdown",
   "id": "b92a25c2",
   "metadata": {},
   "source": [
    "Данное задание позволило показать способность модели запоминать и генерировать представленный текст. Для того чтобы более полно оценить связность теска мной был выбран текст на русском языке: \n",
    "Лев Толстой\n",
    "Война и мир (1 том)\n",
    "\n",
    "В качестве генератора была выбрана модель GRU, которая показала лучший результат в первой части задания. \n",
    "Были предприняты две попытки улучшить качество модели\n",
    "- увеличение HIDDEN_SIZE до 256, и увеличение SEQLEN до 25. HIDDEN_SIZE отвечает за способность сохранять внутреннее состояние сети (запоминать). А длительная последовательность даёт больше контекстной информации. \n",
    "- увеличение числа итераций до 20. В моём случае я обучил модель дважды. \n",
    "\n",
    "По итогам работы столкнулся с трудностью определения \"осмысленности текста\". Отсутствие метрики делает результат неопределённым. \n",
    "В целом можно сказать, что мои попытки особого результата не дали, мне не удалось получить осмысленный текст (в человеческом понимании) но при этом сочетания нескольких слов в генерируемых фразах получились вполне осмысленными.\n"
   ]
  }
 ],
 "metadata": {
  "kernelspec": {
   "display_name": "Python 3 (ipykernel)",
   "language": "python",
   "name": "python3"
  },
  "language_info": {
   "codemirror_mode": {
    "name": "ipython",
    "version": 3
   },
   "file_extension": ".py",
   "mimetype": "text/x-python",
   "name": "python",
   "nbconvert_exporter": "python",
   "pygments_lexer": "ipython3",
   "version": "3.9.7"
  }
 },
 "nbformat": 4,
 "nbformat_minor": 5
}
